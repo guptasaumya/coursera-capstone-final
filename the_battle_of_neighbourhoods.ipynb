{
    "cells": [
        {
            "cell_type": "markdown",
            "metadata": {
                "collapsed": true
            },
            "source": "# Applied Data Science Specialisation Capstone - Final"
        },
        {
            "cell_type": "markdown",
            "metadata": {},
            "source": "##### This notebook is for the Applied Data Science Capstone course final project. ( Part of the IBM Data Science Professional Certification )"
        },
        {
            "cell_type": "markdown",
            "metadata": {},
            "source": "## The Battle of Neighbourhoods - Neighbourhoods Segmentation and Clustering"
        },
        {
            "cell_type": "markdown",
            "metadata": {},
            "source": "To do."
        },
        {
            "cell_type": "markdown",
            "metadata": {},
            "source": "#### Import all the libraries required."
        },
        {
            "cell_type": "code",
            "execution_count": null,
            "metadata": {},
            "outputs": [],
            "source": ""
        }
    ],
    "metadata": {
        "kernelspec": {
            "display_name": "Python 3.8",
            "language": "python",
            "name": "python3"
        },
        "language_info": {
            "codemirror_mode": {
                "name": "ipython",
                "version": 3
            },
            "file_extension": ".py",
            "mimetype": "text/x-python",
            "name": "python",
            "nbconvert_exporter": "python",
            "pygments_lexer": "ipython3",
            "version": "3.8.10"
        }
    },
    "nbformat": 4,
    "nbformat_minor": 1
}